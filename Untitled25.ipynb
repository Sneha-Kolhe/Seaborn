{
 "cells": [
  {
   "cell_type": "markdown",
   "id": "b371ada8-f360-49ea-a6e1-5c3be4e77a0d",
   "metadata": {},
   "source": [
    "## Que 1: Name any five plots that we can plot using the Seaborn library. Also, state the uses of each plot."
   ]
  },
  {
   "cell_type": "code",
   "execution_count": null,
   "id": "e9a6a2f6-a864-4a5b-8a06-f0b0f22828c6",
   "metadata": {},
   "outputs": [],
   "source": [
    "numbers) and returns their sum. Within the function, add the two numbers together and return the result\n",
    "using the return statement. Call the function with the values 5 and 6, and print out the returned result.\n",
    "This will result in the addition of 5 and 6, with the output of the program being the sum of these two\n",
    "numbers.\n",
    "ChatGPT\n",
    "Here's a Python program that defines the add_numbers function and calls it with the values 5 and 6:\n",
    "\n",
    "\n",
    "def add_numbers(num1, num2):\n",
    "    \"\"\"Function to add two numbers and return their sum.\"\"\"\n",
    "    result = num1 + num2\n",
    "    return result\n",
    "\n",
    "# Call the function with the values 5 and 6\n",
    "sum_result = add_numbers(5, 6)\n",
    "\n",
    "# Print out the returned result\n",
    "print(\"The sum of 5 and 6 is:\", sum_result)"
   ]
  },
  {
   "cell_type": "markdown",
   "id": "c5c56a0c-ac82-40b8-ba9c-dec3ef252ea9",
   "metadata": {},
   "source": [
    "## Que 2: Load the \"fmri\" dataset using the load_dataset function of seaborn. Plot a line plot using x =\n",
    "\"timepoint\" and y = \"signal\" for different events and regions."
   ]
  },
  {
   "cell_type": "code",
   "execution_count": null,
   "id": "d50fea1e-62f8-4a2e-871d-c9448296c692",
   "metadata": {},
   "outputs": [],
   "source": []
  }
 ],
 "metadata": {
  "kernelspec": {
   "display_name": "Python 3 (ipykernel)",
   "language": "python",
   "name": "python3"
  },
  "language_info": {
   "codemirror_mode": {
    "name": "ipython",
    "version": 3
   },
   "file_extension": ".py",
   "mimetype": "text/x-python",
   "name": "python",
   "nbconvert_exporter": "python",
   "pygments_lexer": "ipython3",
   "version": "3.10.8"
  }
 },
 "nbformat": 4,
 "nbformat_minor": 5
}
